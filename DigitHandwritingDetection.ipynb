{
  "nbformat": 4,
  "nbformat_minor": 0,
  "metadata": {
    "colab": {
      "provenance": []
    },
    "kernelspec": {
      "name": "python3",
      "display_name": "Python 3"
    },
    "language_info": {
      "name": "python"
    }
  },
  "cells": [
    {
      "cell_type": "markdown",
      "source": [
        "CNN - Convolution Neural Network"
      ],
      "metadata": {
        "id": "V-Hdd4XP_2cS"
      }
    },
    {
      "cell_type": "code",
      "source": [
        "import torch\n",
        "import torch.nn as nn\n",
        "import torch.optim as optim\n",
        "import torchvision\n",
        "import torchvision.transforms as transforms"
      ],
      "metadata": {
        "id": "1cEDQYdlACY1"
      },
      "execution_count": 44,
      "outputs": []
    },
    {
      "cell_type": "code",
      "source": [
        "class SimpleCNN(nn.Module):\n",
        "    def __init__(self):\n",
        "        super(SimpleCNN, self).__init__()\n",
        "        self.conv1 = nn.Conv2d(1, 8, kernel_size=3)\n",
        "        self.pool = nn.MaxPool2d(kernel_size=2, stride=2)\n",
        "        self.fc1 = nn.Linear(8 * 13 * 13, 10)\n",
        "\n",
        "    def forward(self, x):\n",
        "        x = self.pool(torch.relu(self.conv1(x)))\n",
        "        x = x.view(-1, 8 * 13 * 13)\n",
        "        return self.fc1(x)"
      ],
      "metadata": {
        "id": "J_BtV2BwDiX6"
      },
      "execution_count": 45,
      "outputs": []
    },
    {
      "cell_type": "code",
      "source": [
        "tranform=transforms.ToTensor()\n",
        "trainset=torchvision.datasets.MNIST(root='./data',train=True,download=True,transform=tranform)\n",
        "trainloader=torch.utils.data.DataLoader(trainset,batch_size=64,shuffle=True)"
      ],
      "metadata": {
        "id": "w6ER3f0FFvFG"
      },
      "execution_count": 46,
      "outputs": []
    },
    {
      "cell_type": "code",
      "source": [
        "testset=torchvision.datasets.MNIST(root='./data',train=False,download=True,transform=tranform)\n",
        "testloader=torch.utils.data.DataLoader(testset,batch_size=64,shuffle=False)"
      ],
      "metadata": {
        "id": "OV8fmEcqGyaH"
      },
      "execution_count": 47,
      "outputs": []
    },
    {
      "cell_type": "code",
      "source": [
        "device=torch.device(\"cuda\" if torch.cuda.is_available() else \"cpu\")\n",
        "model=SimpleCNN().to(device)\n",
        "criterion=nn.CrossEntropyLoss()\n",
        "optimizer=optim.Adam(model.parameters(),lr=0.001)"
      ],
      "metadata": {
        "id": "IooCbaUGJXfG"
      },
      "execution_count": 48,
      "outputs": []
    },
    {
      "cell_type": "code",
      "source": [
        "model=SimpleCNN().to(device)\n",
        "for epoch in range(2):\n",
        "  running_loss=0.0\n",
        "  for images, labels in trainloader:\n",
        "    images,labels=images.to(device),labels.to(device)\n",
        "    optimizer.zero_grad()\n",
        "    outputs=model(images)\n",
        "    loss=criterion(outputs,labels)\n",
        "    loss.backward()\n",
        "    optimizer.step()\n",
        "    running_loss += loss.item()\n",
        "  print(f\"Epoch: {epoch +1}, loss:{running_loss/len(trainloader):.4f}\")"
      ],
      "metadata": {
        "colab": {
          "base_uri": "https://localhost:8080/"
        },
        "id": "KVA4XgCtMrvA",
        "outputId": "f5202994-50ce-49a0-abcf-3753d26acaef"
      },
      "execution_count": 49,
      "outputs": [
        {
          "output_type": "stream",
          "name": "stdout",
          "text": [
            "Epoch: 1, loss:2.2995\n",
            "Epoch: 2, loss:2.2995\n"
          ]
        }
      ]
    },
    {
      "cell_type": "code",
      "source": [
        "correct,total=0,0\n",
        "with torch.no_grad():\n",
        "  for images,labels in testloader:\n",
        "    images,labels=images.to(device),labels.to(device)\n",
        "    outputs=model(images)\n",
        "    _,predicted=torch.max(outputs.data,1)\n",
        "    total+=labels.size(0)\n",
        "    correct+=(predicted==labels).sum().item()\n",
        "print(f\"Accuracy of the model on the test images: {100*correct/total:.2f}%\")"
      ],
      "metadata": {
        "colab": {
          "base_uri": "https://localhost:8080/"
        },
        "id": "YYlZtTlePGiY",
        "outputId": "b4325b7d-c0b7-4009-a8bc-b38efc082b46"
      },
      "execution_count": 50,
      "outputs": [
        {
          "output_type": "stream",
          "name": "stdout",
          "text": [
            "Accuracy of the model on the test images: 9.65%\n"
          ]
        }
      ]
    },
    {
      "cell_type": "code",
      "metadata": {
        "id": "dfb17a60"
      },
      "source": [
        "import matplotlib.pyplot as plt\n",
        "import numpy as np"
      ],
      "execution_count": 51,
      "outputs": []
    },
    {
      "cell_type": "code",
      "metadata": {
        "colab": {
          "base_uri": "https://localhost:8080/",
          "height": 407
        },
        "id": "02bed701",
        "outputId": "545d712d-449c-4b87-f034-9b2b0506eceb"
      },
      "source": [
        "# Get a batch of training data\n",
        "images, labels = next(iter(trainloader))\n",
        "\n",
        "# Display the first few images\n",
        "fig = plt.figure(figsize=(10, 4))\n",
        "for i in range(8):\n",
        "    ax = fig.add_subplot(2, 4, i + 1, xticks=[], yticks=[])\n",
        "    ax.imshow(np.squeeze(images[i].numpy()), cmap='gray')\n",
        "    ax.set_title(f\"Label: {labels[i].item()}\")\n",
        "plt.tight_layout()\n",
        "plt.show()"
      ],
      "execution_count": 52,
      "outputs": [
        {
          "output_type": "display_data",
          "data": {
            "text/plain": [
              "<Figure size 1000x400 with 8 Axes>"
            ],
            "image/png": "[encoded data removed]"
          },
          "metadata": {}
        }
      ]
    }
  ]
}